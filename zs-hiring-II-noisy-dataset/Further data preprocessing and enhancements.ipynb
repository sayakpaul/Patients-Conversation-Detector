{
 "cells": [
  {
   "cell_type": "markdown",
   "metadata": {},
   "source": [
    "In this notebook, we will attempt to apply another type of text-data preprocessing viz. TF-IDF based vectorization. We will also try a simple neural network model to see if we can improve the baseline score. \n",
    "\n",
    "We could have gone for sequence models by incorporating word embeddings but the corpus that we are dealing with is not very large and experiments say that in these cases n-gram models perform better. Another reason behind not using word embeddings is embedding relationships are learned in dense space, and this happens best over many samples (i.e. a very very large corpora)."
   ]
  },
  {
   "cell_type": "code",
   "execution_count": 2,
   "metadata": {},
   "outputs": [],
   "source": [
    "#Dependencies\n",
    "import pandas as pd\n",
    "import numpy as np\n",
    "\n",
    "from sklearn.feature_extraction.text import TfidfVectorizer\n",
    "\n",
    "import warnings\n",
    "warnings.filterwarnings(\"ignore\")"
   ]
  },
  {
   "cell_type": "markdown",
   "metadata": {},
   "source": [
    "During our previous experiments, we serialized the shorter versions of the train and test sets. Let's load them."
   ]
  },
  {
   "cell_type": "code",
   "execution_count": 2,
   "metadata": {},
   "outputs": [],
   "source": [
    "new_train_frame = pd.read_csv('new_train_frame.csv', encoding = \"ISO-8859-1\")\n",
    "new_test_frame = pd.read_csv('new_test_frame.csv', encoding = \"ISO-8859-1\")"
   ]
  },
  {
   "cell_type": "markdown",
   "metadata": {},
   "source": [
    "## Splitting into train and validation sets (80:20) - "
   ]
  },
  {
   "cell_type": "code",
   "execution_count": 3,
   "metadata": {},
   "outputs": [],
   "source": [
    "from sklearn.model_selection import train_test_split\n",
    "\n",
    "X_train, X_valid, y_train, y_valid = train_test_split(new_train_frame['TRANS_CONV_TEXT'], new_train_frame['Patient_Tag'], \\\n",
    "                                                    test_size=0.2, random_state=42)"
   ]
  },
  {
   "cell_type": "markdown",
   "metadata": {},
   "source": [
    "## Data preprocessing with TF-IDF vectorization - \n",
    "\n",
    "We can write utility functions for this which in turns gives our code a modular approach. "
   ]
  },
  {
   "cell_type": "code",
   "execution_count": 4,
   "metadata": {},
   "outputs": [],
   "source": [
    "# Vectorization parameters\n",
    "# Range (inclusive) of n-gram sizes for tokenizing text.\n",
    "NGRAM_RANGE = (1, 2)\n",
    "\n",
    "# Whether text should be split into word or character n-grams.\n",
    "# One of 'word', 'char'.\n",
    "TOKEN_MODE = 'word'\n",
    "\n",
    "# Minimum document/corpus frequency below which a token will be discarded.\n",
    "MIN_DOCUMENT_FREQUENCY = 2\n",
    "\n",
    "def ngram_vectorize(train_texts, train_labels, val_texts):\n",
    "    \"\"\"\n",
    "    # Arguments\n",
    "        train_texts: list, training text strings.\n",
    "        train_labels: np.ndarray, training labels.\n",
    "        val_texts: list, validation text strings.\n",
    "\n",
    "    # Returns\n",
    "        x_train, x_val: vectorized training and validation texts\n",
    "    \"\"\"\n",
    "    # Create keyword arguments to pass to the 'tf-idf' vectorizer.\n",
    "    kwargs = {\n",
    "            'ngram_range': NGRAM_RANGE,  # Use 1-grams + 2-grams.\n",
    "            'dtype': 'int32',\n",
    "            'strip_accents': 'unicode',\n",
    "            'decode_error': 'replace',\n",
    "            'analyzer': TOKEN_MODE,  # Split text into word tokens.\n",
    "            'min_df': MIN_DOCUMENT_FREQUENCY,\n",
    "    }\n",
    "    vectorizer = TfidfVectorizer(**kwargs)\n",
    "\n",
    "    # Learn vocabulary from training texts and vectorize training texts.\n",
    "    x_train = vectorizer.fit_transform(train_texts)\n",
    "\n",
    "    # Vectorize validation texts.\n",
    "    x_val = vectorizer.transform(val_texts)\n",
    "    \n",
    "    return x_train, x_val"
   ]
  },
  {
   "cell_type": "markdown",
   "metadata": {},
   "source": [
    "## Building an MLP model"
   ]
  },
  {
   "cell_type": "markdown",
   "metadata": {},
   "source": [
    "We are dealing with a binary classification problem so the activation function for the output layer of the network will be `sigmoid` as it will give us the class probabilities which we can eventually convert to discrete classes. \n",
    "\n",
    "The following function `get_last_layer_units_and_activation()` is responsible for - \n",
    "* Determining the activation function for the output layer.\n",
    "* Number of units to be present in the output layer. \n",
    "\n",
    "The function can also be extended to multinomial classification tasks as well (where `softmax` activation function is used in the last layer). "
   ]
  },
  {
   "cell_type": "code",
   "execution_count": 5,
   "metadata": {},
   "outputs": [],
   "source": [
    "def get_last_layer_units_and_activation(num_classes):\n",
    "    \"\"\"Gets the # units and activation function for the last network layer.\n",
    "\n",
    "    # Arguments\n",
    "        num_classes: int, number of classes.\n",
    "\n",
    "    # Returns\n",
    "        units, activation values.\n",
    "    \"\"\"\n",
    "    if num_classes == 2:\n",
    "        activation = 'sigmoid'\n",
    "        units = 1\n",
    "    else:\n",
    "        activation = 'softmax'\n",
    "        units = num_classes\n",
    "    return units, activation"
   ]
  },
  {
   "cell_type": "markdown",
   "metadata": {},
   "source": [
    "The following method builds us a feed-forward network. "
   ]
  },
  {
   "cell_type": "code",
   "execution_count": 6,
   "metadata": {},
   "outputs": [],
   "source": [
    "from tensorflow.python.keras import models\n",
    "from tensorflow.python.keras.layers import Dense\n",
    "from tensorflow.python.keras.layers import Dropout\n",
    "\n",
    "def mlp_model(layers, units, dropout_rate, input_shape, num_classes):\n",
    "    \"\"\"Creates an instance of a multi-layer perceptron model.\n",
    "\n",
    "    # Arguments\n",
    "        layers: int, number of `Dense` layers in the model.\n",
    "        units: int, output dimension of the layers.\n",
    "        dropout_rate: float, percentage of input to drop at Dropout layers.\n",
    "        input_shape: tuple, shape of input to the model.\n",
    "        num_classes: int, number of output classes.\n",
    "\n",
    "    # Returns\n",
    "        An MLP model instance.\n",
    "    \"\"\"\n",
    "    op_units, op_activation = get_last_layer_units_and_activation(num_classes)\n",
    "    model = models.Sequential()\n",
    "    model.add(Dropout(rate=dropout_rate, input_shape=input_shape))\n",
    "\n",
    "    for _ in range(layers-1):\n",
    "        model.add(Dense(units=units, activation='relu'))\n",
    "        model.add(Dropout(rate=dropout_rate))\n",
    "\n",
    "    model.add(Dense(units=op_units, activation=op_activation))\n",
    "    return model"
   ]
  },
  {
   "cell_type": "markdown",
   "metadata": {},
   "source": [
    "`train_ngram_model()` function helps to train and validate our shallow network.  "
   ]
  },
  {
   "cell_type": "code",
   "execution_count": 5,
   "metadata": {},
   "outputs": [],
   "source": [
    "import tensorflow as tf \n",
    "\n",
    "def train_ngram_model(data,\n",
    "                      learning_rate=1e-3,\n",
    "                      epochs=1000,\n",
    "                      batch_size=128,\n",
    "                      layers=3,\n",
    "                      units=64,\n",
    "                      dropout_rate=0.2):\n",
    "    # Get the data.\n",
    "    (train_texts, train_labels), (val_texts, val_labels) = data\n",
    "\n",
    "    # Specify the number of classes.\n",
    "    num_classes = 2\n",
    "\n",
    "    # Vectorize texts.\n",
    "    x_train, x_val = ngram_vectorize(\n",
    "        train_texts, train_labels, val_texts)\n",
    "\n",
    "    # Instantiate the model\n",
    "    model = mlp_model(layers=layers,\n",
    "                                  units=units,\n",
    "                                  dropout_rate=dropout_rate,\n",
    "                                  input_shape=x_train.shape[1:],\n",
    "                                  num_classes=num_classes)\n",
    "\n",
    "    # Compile model with learning parameters.\n",
    "    loss = 'binary_crossentropy'\n",
    "    optimizer = tf.keras.optimizers.Adam(lr=learning_rate)\n",
    "    model.compile(optimizer=optimizer, loss=loss, metrics=['acc'])\n",
    "\n",
    "    # Create callback for early stopping on validation loss. If the loss does\n",
    "    # not decrease in two consecutive tries, stop training.\n",
    "    # Tensorboard callback for debugging purpose\n",
    "    callbacks = [tf.keras.callbacks.EarlyStopping(\n",
    "        monitor='val_loss', patience=2), tf.keras.callbacks.TensorBoard(log_dir='./logs')]\n",
    "\n",
    "    # Train and validate model.\n",
    "    history = model.fit(\n",
    "            x_train,\n",
    "            train_labels,\n",
    "            epochs=epochs,\n",
    "            callbacks=callbacks,\n",
    "            validation_data=(x_val, val_labels),\n",
    "            verbose=2,  # Logs once per epoch.\n",
    "            batch_size=batch_size)\n",
    "\n",
    "    # Print results.\n",
    "    history = history.history\n",
    "    print('Validation accuracy: {acc}, loss: {loss}'.format(\n",
    "            acc=history['val_acc'][-1], loss=history['val_loss'][-1]))\n",
    "\n",
    "    # Save model.\n",
    "    model.save('zs_mlp_model.h5')\n",
    "    return history"
   ]
  },
  {
   "cell_type": "markdown",
   "metadata": {},
   "source": [
    "<b>A note on the model configuration choices</b>:\n",
    "* **Dropout layers**: For reducing overfitting. Its value is set 0.2 which means that 20% of the input data will be randomly chosen and excluded from successive activations. This [blog](https://machinelearningmastery.com/how-to-reduce-overfitting-with-dropout-regularization-in-keras/) provides a gentle introduction to dropout regularization. \n",
    "* **Loss function**: We used `binary_crossentropy` as our loss function which is a pretty standard one when it comes to binary classification. It is also convex in nature which in turn helps the optimization algorithm in a faster convergence. \n",
    "* **Adam optimizer**: Stochastic gradient descent maintains a single learning rate (termed alpha) for all weight updates and the learning rate does not change during training.Whereas in Adam, a learning rate is maintained for each network weight (parameter) and separately adapted as learning unfolds.The method computes individual adaptive learning rates for different parameters from estimates of first and second moments of the gradients."
   ]
  },
  {
   "cell_type": "markdown",
   "metadata": {},
   "source": [
    "## Training and evaluating the MLP model"
   ]
  },
  {
   "cell_type": "markdown",
   "metadata": {},
   "source": [
    "#### Preparing the data for fitting it to a feed-forward network - "
   ]
  },
  {
   "cell_type": "code",
   "execution_count": 8,
   "metadata": {},
   "outputs": [],
   "source": [
    "data = ((list(X_train), np.array(y_train)), (list(X_valid), np.array(y_valid)))"
   ]
  },
  {
   "cell_type": "markdown",
   "metadata": {},
   "source": [
    "#### Training a feed-forward networks - "
   ]
  },
  {
   "cell_type": "code",
   "execution_count": 18,
   "metadata": {},
   "outputs": [
    {
     "name": "stdout",
     "output_type": "stream",
     "text": [
      "Train on 924 samples, validate on 232 samples\n",
      "Epoch 1/1000\n",
      " - 1s - loss: 0.6765 - acc: 0.7468 - val_loss: 0.6409 - val_acc: 0.7716\n",
      "Epoch 2/1000\n",
      " - 1s - loss: 0.6013 - acc: 0.7976 - val_loss: 0.5652 - val_acc: 0.7716\n",
      "Epoch 3/1000\n",
      " - 1s - loss: 0.5050 - acc: 0.7976 - val_loss: 0.4893 - val_acc: 0.7716\n",
      "Epoch 4/1000\n",
      " - 1s - loss: 0.4076 - acc: 0.7976 - val_loss: 0.4266 - val_acc: 0.7716\n",
      "Epoch 5/1000\n",
      " - 1s - loss: 0.3183 - acc: 0.8106 - val_loss: 0.3668 - val_acc: 0.7888\n",
      "Epoch 6/1000\n",
      " - 1s - loss: 0.2383 - acc: 0.9080 - val_loss: 0.3155 - val_acc: 0.8190\n",
      "Epoch 7/1000\n",
      " - 1s - loss: 0.1774 - acc: 0.9784 - val_loss: 0.2778 - val_acc: 0.8621\n",
      "Epoch 8/1000\n",
      " - 1s - loss: 0.1250 - acc: 0.9903 - val_loss: 0.2604 - val_acc: 0.8922\n",
      "Epoch 9/1000\n",
      " - 1s - loss: 0.0818 - acc: 0.9989 - val_loss: 0.2424 - val_acc: 0.9138\n",
      "Epoch 10/1000\n",
      " - 1s - loss: 0.0489 - acc: 0.9989 - val_loss: 0.2232 - val_acc: 0.9095\n",
      "Epoch 11/1000\n",
      " - 1s - loss: 0.0306 - acc: 0.9989 - val_loss: 0.2111 - val_acc: 0.9181\n",
      "Epoch 12/1000\n",
      " - 1s - loss: 0.0184 - acc: 1.0000 - val_loss: 0.2106 - val_acc: 0.9181\n",
      "Epoch 13/1000\n",
      " - 1s - loss: 0.0122 - acc: 1.0000 - val_loss: 0.2101 - val_acc: 0.9181\n",
      "Epoch 14/1000\n",
      " - 1s - loss: 0.0089 - acc: 1.0000 - val_loss: 0.2120 - val_acc: 0.9181\n",
      "Epoch 15/1000\n",
      " - 1s - loss: 0.0068 - acc: 1.0000 - val_loss: 0.2126 - val_acc: 0.9224\n",
      "Validation accuracy: 0.9224138054354437, loss: 0.2125875107173262\n"
     ]
    }
   ],
   "source": [
    "h = train_ngram_model(data,\\\n",
    "                      learning_rate=1e-3,\\\n",
    "                      epochs=1000,\\\n",
    "                      batch_size=128,\\\n",
    "                      layers=3,\\\n",
    "                      units=64,\\\n",
    "                      dropout_rate=0.2)"
   ]
  },
  {
   "cell_type": "markdown",
   "metadata": {},
   "source": [
    "    The validation accuracy has increased to a good extent with a shallow net. "
   ]
  },
  {
   "cell_type": "markdown",
   "metadata": {},
   "source": [
    "#### Plotting and summarization of loss and accuracy - "
   ]
  },
  {
   "cell_type": "code",
   "execution_count": 10,
   "metadata": {},
   "outputs": [
    {
     "data": {
      "image/png": "[encoded data removed]",
      "text/plain": [
       "<Figure size 432x288 with 1 Axes>"
      ]
     },
     "metadata": {},
     "output_type": "display_data"
    }
   ],
   "source": [
    "# Plot the training loss and accuracy.\n",
    "import matplotlib.pyplot as plt\n",
    "\n",
    "%matplotlib inline\n",
    " \n",
    "# Plot\n",
    "N = len(h['loss'])\n",
    "plt.style.use(\"ggplot\")\n",
    "plt.figure()\n",
    "plt.plot(np.arange(0, N), h[\"loss\"], label=\"train_loss\")\n",
    "plt.plot(np.arange(0, N), h[\"val_loss\"], label=\"val_loss\")\n",
    "plt.plot(np.arange(0, N), h[\"acc\"], label=\"train_acc\")\n",
    "plt.plot(np.arange(0, N), h[\"val_acc\"], label=\"val_acc\")\n",
    "plt.title(\"Training Loss and Accuracy on Dataset\")\n",
    "plt.xlabel(\"Epoch #\")\n",
    "plt.ylabel(\"Loss/Accuracy\")\n",
    "plt.legend(loc=\"lower left\")\n",
    "plt.show()"
   ]
  },
  {
   "cell_type": "markdown",
   "metadata": {},
   "source": [
    "## Deriving the confusion matrix with the help of the serialized model"
   ]
  },
  {
   "cell_type": "code",
   "execution_count": 3,
   "metadata": {},
   "outputs": [],
   "source": [
    "# Loading the model weigths\n",
    "\n",
    "import keras\n",
    "from keras.models import load_model\n",
    "from keras.utils import CustomObjectScope\n",
    "from keras.initializers import glorot_uniform\n",
    "\n",
    "with CustomObjectScope({'GlorotUniform': glorot_uniform()}):\n",
    "        model = load_model('zs_mlp_model.h5') # We serialized the weights of the feed-forward network"
   ]
  },
  {
   "cell_type": "markdown",
   "metadata": {},
   "source": [
    "We used `CustomObjectScope` to load up the `model.h5` file since there were compatibility issues. The `CustomObjectScope` needs an instance to be passed hence the use of the `gloroth_uniform` initializer. It does not have any other special purpose. \n",
    "\n",
    "Stackoverflow thread referred for this: https://stackoverflow.com/questions/53183865/unknown-initializer-glorotuniform-when-loading-keras-model"
   ]
  },
  {
   "cell_type": "code",
   "execution_count": 20,
   "metadata": {},
   "outputs": [
    {
     "name": "stdout",
     "output_type": "stream",
     "text": [
      "             precision    recall  f1-score   support\n",
      "\n",
      "          0       0.92      0.98      0.95       179\n",
      "          1       0.93      0.72      0.81        53\n",
      "\n",
      "avg / total       0.92      0.92      0.92       232\n",
      "\n"
     ]
    }
   ],
   "source": [
    "from sklearn.metrics import classification_report\n",
    "from sklearn.metrics import accuracy_score\n",
    "\n",
    "_, validation_vectors = ngram_vectorize(\n",
    "        list(X_train), np.array(y_train), list(X_valid))\n",
    "valid_preds = model.predict_classes(validation_vectors)\n",
    "print(classification_report(y_valid, valid_preds))"
   ]
  },
  {
   "cell_type": "markdown",
   "metadata": {},
   "source": [
    "Our MLP model beats the baseline when it comes to identifying the minority classes. "
   ]
  },
  {
   "cell_type": "markdown",
   "metadata": {},
   "source": [
    "We can now use this model to make predictions on the actual test set. "
   ]
  },
  {
   "cell_type": "code",
   "execution_count": 14,
   "metadata": {},
   "outputs": [],
   "source": [
    "_, test_vectors = ngram_vectorize(\n",
    "        list(X_train), np.array(y_train), list(new_test_frame['TRANS_CONV_TEXT']))"
   ]
  },
  {
   "cell_type": "code",
   "execution_count": 15,
   "metadata": {},
   "outputs": [],
   "source": [
    "test_preds = model.predict_classes(test_vectors)"
   ]
  },
  {
   "cell_type": "markdown",
   "metadata": {},
   "source": [
    "Here's the architecture of the model that we used - "
   ]
  },
  {
   "cell_type": "code",
   "execution_count": 7,
   "metadata": {},
   "outputs": [],
   "source": [
    "tf.keras.utils.plot_model(model,to_file='model.png',show_shapes=True, show_layer_names=True)"
   ]
  },
  {
   "cell_type": "markdown",
   "metadata": {},
   "source": [
    "![](model.png)"
   ]
  },
  {
   "cell_type": "markdown",
   "metadata": {},
   "source": [
    "The first node denotes the inputs. "
   ]
  },
  {
   "cell_type": "markdown",
   "metadata": {},
   "source": [
    "## Preparing the submission file"
   ]
  },
  {
   "cell_type": "code",
   "execution_count": null,
   "metadata": {},
   "outputs": [],
   "source": [
    "test_for_submission = pd.read_csv('../dataset/test.csv', encoding = \"ISO-8859-1\")\n",
    "submission = pd.DataFrame()\n",
    "submission['Index'] = test_for_submission['Index']\n",
    "submission['Patient_Tag'] = test_preds\n",
    "\n",
    "submission.to_csv('submission03.csv',index=False)"
   ]
  },
  {
   "cell_type": "code",
   "execution_count": null,
   "metadata": {},
   "outputs": [],
   "source": [
    "!head -5 submission03.csv"
   ]
  },
  {
   "cell_type": "markdown",
   "metadata": {},
   "source": [
    "### Further considerations - \n",
    "\n",
    "* Hyperparameter tuning.\n",
    "* Prediction ensembles. \n",
    "* Build a simple REST API of the shallow net so that it can be deployed in production. "
   ]
  }
 ],
 "metadata": {
  "kernelspec": {
   "display_name": "Python 3",
   "language": "python",
   "name": "python3"
  },
  "language_info": {
   "codemirror_mode": {
    "name": "ipython",
    "version": 3
   },
   "file_extension": ".py",
   "mimetype": "text/x-python",
   "name": "python",
   "nbconvert_exporter": "python",
   "pygments_lexer": "ipython3",
   "version": "3.6.5"
  },
  "latex_envs": {
   "LaTeX_envs_menu_present": true,
   "autoclose": false,
   "autocomplete": true,
   "bibliofile": "biblio.bib",
   "cite_by": "apalike",
   "current_citInitial": 1,
   "eqLabelWithNumbers": true,
   "eqNumInitial": 1,
   "hotkeys": {
    "equation": "Ctrl-E",
    "itemize": "Ctrl-I"
   },
   "labels_anchors": false,
   "latex_user_defs": false,
   "report_style_numbering": false,
   "user_envs_cfg": false
  },
  "toc": {
   "base_numbering": 1,
   "nav_menu": {},
   "number_sections": false,
   "sideBar": true,
   "skip_h1_title": false,
   "title_cell": "Table of Contents",
   "title_sidebar": "Contents",
   "toc_cell": false,
   "toc_position": {},
   "toc_section_display": true,
   "toc_window_display": false
  }
 },
 "nbformat": 4,
 "nbformat_minor": 2
}
